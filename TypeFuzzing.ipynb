{
 "cells": [
  {
   "cell_type": "markdown",
   "metadata": {},
   "source": [
    "## Generate the Instances\n"
   ]
  },
  {
   "cell_type": "code",
   "execution_count": 133,
   "metadata": {},
   "outputs": [
    {
     "ename": "SyntaxError",
     "evalue": "unexpected character after line continuation character (<ipython-input-133-ef3a2fc55b2d>, line 14)",
     "output_type": "error",
     "traceback": [
      "\u001b[0;36m  File \u001b[0;32m\"<ipython-input-133-ef3a2fc55b2d>\"\u001b[0;36m, line \u001b[0;32m14\u001b[0m\n\u001b[0;31m    strings = [\"\\'a\\', \"\\'\\'\", \"\\'life is rolling on, and its all very exciting\\'\"]\u001b[0m\n\u001b[0m                                                                                   ^\u001b[0m\n\u001b[0;31mSyntaxError\u001b[0m\u001b[0;31m:\u001b[0m unexpected character after line continuation character\n"
     ]
    }
   ],
   "source": [
    "# todo control how many you want to try\n",
    "def get_ints():\n",
    "    ints = [1, 0, -1, 5, -5, -200, 200, 200000, -200000]\n",
    "    return list(map(lambda x: (\"int     \", x), ints))\n",
    "\n",
    "def get_floats():\n",
    "    return list(map(lambda x: (\"float   \", float(x[1])), get_ints()))\n",
    "\n",
    "def get_bools():\n",
    "    bools = [True, False]\n",
    "    return list(map(lambda x: (\"bool    \", x), bools))\n",
    "\n",
    "def get_strings():\n",
    "    strings = [\"\\\"a\\\"\", \"\\\"\\\"\", \"\\\"life is rolling on, and it's all very exciting\\\"\"]\n",
    "    return list(map(lambda x: (\"string  \", x), strings))\n",
    "\n",
    "\n",
    "def make_identical_lists(x, typeAnnotation):\n",
    "    lists = [[x], [x]*2, [x]*5, [x]*50, []]\n",
    "    fullType = \"[\" + typeAnnotation + \"]\"\n",
    "    return list(map(lambda x: (fullType, x), lists))\n",
    "\n",
    "def get_int_list():\n",
    "    return make_identical_lists(1, \"int   \")\n",
    "    \n",
    "def get_float_list():\n",
    "    return make_identical_lists(1.0, \"float \")\n",
    "\n",
    "def get_string_list():\n",
    "    return make_identical_lists(\"trust your silent captain\", \"string\")\n",
    "\n",
    "# tuples, nested lists, mutiple arguments\n",
    "\n",
    "def get_instances():\n",
    "    return get_ints() + get_floats() + get_bools() \\\n",
    "            + get_strings() + get_int_list() + get_float_list() + get_string_list()"
   ]
  },
  {
   "cell_type": "code",
   "execution_count": 128,
   "metadata": {},
   "outputs": [],
   "source": [
    "# helper for intelligently accumulating results\n",
    "def add_result(typeAccum, typeAnnotation, instance):\n",
    "    if not(typeAnnotation in (map(lambda x: x[0], typeAccum))):\n",
    "        typeAccum.append((typeAnnotation, instance))\n",
    "\n",
    "def show_results(typeAccum):\n",
    "    for (typeAnnotation, inst) in typeAccum:\n",
    "        print(typeAnnotation+ \"│\", inst)\n",
    "\n",
    "    \n",
    "# acc = []        \n",
    "# add_result(acc, \"int\", 1)    \n",
    "# add_result(acc, \"int\", 2)  \n",
    "# add_result(acc, \"string\", \"yo\") \n",
    "# print(acc)\n",
    "# show_results(acc)"
   ]
  },
  {
   "cell_type": "code",
   "execution_count": 129,
   "metadata": {},
   "outputs": [],
   "source": [
    "import subprocess\n",
    "\n",
    "instances = get_instances() \n",
    "valid_results = []\n",
    "invalid_results = []"
   ]
  },
  {
   "cell_type": "code",
   "execution_count": 130,
   "metadata": {},
   "outputs": [
    {
     "name": "stdout",
     "output_type": "stream",
     "text": [
      "━━━━━━━━━━━━━━━━━━━━━━━━━━━━\n",
      "      COMPLETED \n",
      "────────┬───────────────────\n",
      "  type  │  instance\n",
      "────────┼───────────────────\n",
      "string  │ \"a\"\n",
      "\n",
      "━━━━━━━━━━━━━━━━━━━━━━━━━━━━\n",
      "      CRASHED \n",
      "────────┬───────────────────\n",
      "  type  │  instance\n",
      "────────┼───────────────────\n",
      "int     │ 1\n",
      "float   │ 1.0\n",
      "bool    │ True\n",
      "[int   ]│ [1]\n",
      "[float ]│ [1.0]\n",
      "[string]│ ['trust your silent captain']\n"
     ]
    }
   ],
   "source": [
    "for (typeAnnotation, inst) in instances:\n",
    "    # Step 1: Write the File\n",
    "    writeThis = \"\"\"from totest import *\n",
    "\n",
    "addOne(\"\"\" + str(inst) +\")\\n\"\n",
    "\n",
    "\n",
    "    with open(\"current_test.py\", 'w') as f:\n",
    "        f.write(writeThis)\n",
    "        \n",
    "    # Step 2: Run the Subprocess\n",
    "    try: \n",
    "        subprocess.run(\"python3 current_test.py\", shell=True, check=True)\n",
    "        add_result(valid_results, typeAnnotation, inst)\n",
    "    except subprocess.CalledProcessError as grepexc:                                                                                                   \n",
    "        add_result(invalid_results, typeAnnotation, inst)\n",
    "\n",
    "        \n",
    "print(\"━━━━━━━━━━━━━━━━━━━━━━━━━━━━\\n      COMPLETED \\n────────┬───────────────────\\n  type  │  instance\\n────────┼───────────────────\")\n",
    "show_results(valid_results)\n",
    "\n",
    "print(\"\\n━━━━━━━━━━━━━━━━━━━━━━━━━━━━\\n      CRASHED \\n────────┬───────────────────\\n  type  │  instance\\n────────┼───────────────────\")        \n",
    "show_results(invalid_results)\n"
   ]
  },
  {
   "cell_type": "code",
   "execution_count": 38,
   "metadata": {},
   "outputs": [],
   "source": [
    "for name, obj in list(globals().items()):\n",
    "    if isinstance(obj, type):\n",
    "        print(name)"
   ]
  },
  {
   "cell_type": "code",
   "execution_count": 39,
   "metadata": {},
   "outputs": [
    {
     "name": "stdout",
     "output_type": "stream",
     "text": [
      "bool\n",
      "memoryview\n",
      "bytearray\n",
      "bytes\n",
      "classmethod\n",
      "complex\n",
      "dict\n",
      "enumerate\n",
      "filter\n",
      "float\n",
      "frozenset\n",
      "property\n",
      "int\n",
      "list\n",
      "map\n",
      "object\n",
      "range\n",
      "reversed\n",
      "set\n",
      "slice\n",
      "staticmethod\n",
      "str\n",
      "super\n",
      "tuple\n",
      "type\n",
      "zip\n",
      "BaseException\n",
      "Exception\n",
      "TypeError\n",
      "StopAsyncIteration\n",
      "StopIteration\n",
      "GeneratorExit\n",
      "SystemExit\n",
      "KeyboardInterrupt\n",
      "ImportError\n",
      "ModuleNotFoundError\n",
      "OSError\n",
      "EnvironmentError\n",
      "IOError\n",
      "EOFError\n",
      "RuntimeError\n",
      "RecursionError\n",
      "NotImplementedError\n",
      "NameError\n",
      "UnboundLocalError\n",
      "AttributeError\n",
      "SyntaxError\n",
      "IndentationError\n",
      "TabError\n",
      "LookupError\n",
      "IndexError\n",
      "KeyError\n",
      "ValueError\n",
      "UnicodeError\n",
      "UnicodeEncodeError\n",
      "UnicodeDecodeError\n",
      "UnicodeTranslateError\n",
      "AssertionError\n",
      "ArithmeticError\n",
      "FloatingPointError\n",
      "OverflowError\n",
      "ZeroDivisionError\n",
      "SystemError\n",
      "ReferenceError\n",
      "BufferError\n",
      "MemoryError\n",
      "Warning\n",
      "UserWarning\n",
      "DeprecationWarning\n",
      "PendingDeprecationWarning\n",
      "SyntaxWarning\n",
      "RuntimeWarning\n",
      "FutureWarning\n",
      "ImportWarning\n",
      "UnicodeWarning\n",
      "BytesWarning\n",
      "ResourceWarning\n",
      "ConnectionError\n",
      "BlockingIOError\n",
      "BrokenPipeError\n",
      "ChildProcessError\n",
      "ConnectionAbortedError\n",
      "ConnectionRefusedError\n",
      "ConnectionResetError\n",
      "FileExistsError\n",
      "FileNotFoundError\n",
      "IsADirectoryError\n",
      "NotADirectoryError\n",
      "InterruptedError\n",
      "PermissionError\n",
      "ProcessLookupError\n",
      "TimeoutError\n"
     ]
    }
   ],
   "source": [
    "import builtins\n",
    "for name in list(vars(builtins)) + list(globals()):\n",
    "    if isinstance(eval(name), type):\n",
    "        print(name)"
   ]
  },
  {
   "cell_type": "code",
   "execution_count": null,
   "metadata": {},
   "outputs": [],
   "source": []
  }
 ],
 "metadata": {
  "kernelspec": {
   "display_name": "Python 3",
   "language": "python",
   "name": "python3"
  },
  "language_info": {
   "codemirror_mode": {
    "name": "ipython",
    "version": 3
   },
   "file_extension": ".py",
   "mimetype": "text/x-python",
   "name": "python",
   "nbconvert_exporter": "python",
   "pygments_lexer": "ipython3",
   "version": "3.6.5"
  }
 },
 "nbformat": 4,
 "nbformat_minor": 2
}
