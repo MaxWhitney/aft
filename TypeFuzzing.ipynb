{
 "cells": [
  {
   "cell_type": "markdown",
   "metadata": {},
   "source": [
    "## Generate the Instances\n"
   ]
  },
  {
   "cell_type": "code",
   "execution_count": 35,
   "metadata": {},
   "outputs": [],
   "source": [
    "import subprocess\n",
    "\n",
    "instances = [-1, 2.0, 'a', \"abc\", [0,1,2]]\n",
    "valid_results = []"
   ]
  },
  {
   "cell_type": "code",
   "execution_count": 36,
   "metadata": {},
   "outputs": [
    {
     "name": "stdout",
     "output_type": "stream",
     "text": [
      "Invalid value: a\n",
      "Invalid value: abc\n",
      "Invalid value: [0, 1, 2]\n",
      "Valid values were: [-1, 2.0]\n"
     ]
    }
   ],
   "source": [
    "for inst in instances:\n",
    "    # Step 1: Write the File\n",
    "    writeThis = \"\"\"from totest import *\n",
    "\n",
    "addOne(\"\"\" + str(inst) +\")\\n\"\n",
    "\n",
    "\n",
    "    with open(\"current_test.py\", 'w') as f:\n",
    "        f.write(writeThis)\n",
    "        \n",
    "    # Step 2: Run the Subprocess\n",
    "    try: \n",
    "        subprocess.run(\"python3 current_test.py\", shell=True, check=True)\n",
    "        valid_results.append(inst)\n",
    "    except subprocess.CalledProcessError as grepexc:                                                                                                   \n",
    "        print(\"Invalid value:\", inst)\n",
    "        \n",
    "\n",
    "print(\"Valid values were:\", valid_results)"
   ]
  },
  {
   "cell_type": "code",
   "execution_count": null,
   "metadata": {},
   "outputs": [],
   "source": []
  }
 ],
 "metadata": {
  "kernelspec": {
   "display_name": "Python 3",
   "language": "python",
   "name": "python3"
  },
  "language_info": {
   "codemirror_mode": {
    "name": "ipython",
    "version": 3
   },
   "file_extension": ".py",
   "mimetype": "text/x-python",
   "name": "python",
   "nbconvert_exporter": "python",
   "pygments_lexer": "ipython3",
   "version": "3.6.5"
  }
 },
 "nbformat": 4,
 "nbformat_minor": 2
}
